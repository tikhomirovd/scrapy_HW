{
 "cells": [
  {
   "cell_type": "code",
   "execution_count": 5,
   "id": "5a4e99f6-85ae-420b-a072-f6e3af298f1b",
   "metadata": {},
   "outputs": [],
   "source": [
    "import requests\n",
    "from bs4 import BeautifulSoup\n"
   ]
  },
  {
   "cell_type": "code",
   "execution_count": 12,
   "id": "89bfe9ad-e8c2-4939-8751-d64d35aee9ed",
   "metadata": {},
   "outputs": [],
   "source": [
    "response = requests.get(\"https://www.litres.ru/genre/programmirovanie-5272/\")"
   ]
  },
  {
   "cell_type": "code",
   "execution_count": 14,
   "id": "789bd2b2-350e-421f-b9e3-2c77ff25f73f",
   "metadata": {},
   "outputs": [
    {
     "data": {
      "text/plain": [
       "55078"
      ]
     },
     "execution_count": 14,
     "metadata": {},
     "output_type": "execute_result"
    }
   ],
   "source": [
    "response.text.find('4,9')"
   ]
  },
  {
   "cell_type": "code",
   "execution_count": 21,
   "id": "6d94eeb5-d33c-489b-9dda-93e912368f72",
   "metadata": {},
   "outputs": [
    {
     "data": {
      "text/plain": [
       "<div class=\"ArtRating_rating__ntve8 ArtRating_grey__3_ZvG\" data-testid=\"art__ratingAvg\">0</div>"
      ]
     },
     "execution_count": 21,
     "metadata": {},
     "output_type": "execute_result"
    }
   ],
   "source": [
    "soup = BeautifulSoup(response.content, 'html.parser')\n",
    "\n",
    "# Парсинг рейтинга (например, рейтинг 4.6)\n",
    "rating_tag = soup.find('div', {'data-testid': 'art__ratingAvg'})\n",
    "rating_tag"
   ]
  },
  {
   "cell_type": "code",
   "execution_count": null,
   "id": "d3b8ad15-c9a4-4e67-aad8-ffc77ccc4d00",
   "metadata": {},
   "outputs": [],
   "source": []
  },
  {
   "cell_type": "code",
   "execution_count": 16,
   "id": "5e4c0e75-8a1e-4b76-9a79-38d36fb9746f",
   "metadata": {},
   "outputs": [],
   "source": [
    "rating_count_tag = soup.find('div', {'data-testid': 'book-factoids__marks'})\n",
    "rating_count_tag"
   ]
  },
  {
   "cell_type": "code",
   "execution_count": null,
   "id": "6212c243-0f84-463a-b984-270f65a7e822",
   "metadata": {},
   "outputs": [],
   "source": []
  }
 ],
 "metadata": {
  "kernelspec": {
   "display_name": "Python 3 (ipykernel)",
   "language": "python",
   "name": "python3"
  },
  "language_info": {
   "codemirror_mode": {
    "name": "ipython",
    "version": 3
   },
   "file_extension": ".py",
   "mimetype": "text/x-python",
   "name": "python",
   "nbconvert_exporter": "python",
   "pygments_lexer": "ipython3",
   "version": "3.10.11"
  }
 },
 "nbformat": 4,
 "nbformat_minor": 5
}
