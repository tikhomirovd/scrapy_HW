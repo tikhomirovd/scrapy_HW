{
 "cells": [
  {
   "cell_type": "code",
   "execution_count": 1,
   "id": "6cb1f72a-1c40-43d4-b3d2-6090458e5863",
   "metadata": {},
   "outputs": [],
   "source": [
    "import pandas as pd\n",
    "import matplotlib.pyplot as plt\n",
    "import seaborn as sns"
   ]
  },
  {
   "cell_type": "code",
   "execution_count": 2,
   "id": "55ea9545-f1c8-401b-8328-14337ea27bc3",
   "metadata": {},
   "outputs": [],
   "source": [
    "df = pd.read_csv('litres_scraper/books.csv')"
   ]
  },
  {
   "cell_type": "markdown",
   "id": "f2ba0b1d-50ec-4263-b220-31190b116346",
   "metadata": {},
   "source": [
    "1. Выведите первые 5 строк датасета. (0.25). Сколько в нём строк и столбцов (0.25)?\n",
    "\n",
    "\n"
   ]
  },
  {
   "cell_type": "code",
   "execution_count": 3,
   "id": "a11afdf6-c6f4-4322-bc44-30d53cf8c7cd",
   "metadata": {},
   "outputs": [
    {
     "data": {
      "text/html": [
       "<div>\n",
       "<style scoped>\n",
       "    .dataframe tbody tr th:only-of-type {\n",
       "        vertical-align: middle;\n",
       "    }\n",
       "\n",
       "    .dataframe tbody tr th {\n",
       "        vertical-align: top;\n",
       "    }\n",
       "\n",
       "    .dataframe thead th {\n",
       "        text-align: right;\n",
       "    }\n",
       "</style>\n",
       "<table border=\"1\" class=\"dataframe\">\n",
       "  <thead>\n",
       "    <tr style=\"text-align: right;\">\n",
       "      <th></th>\n",
       "      <th>name</th>\n",
       "      <th>author</th>\n",
       "      <th>link</th>\n",
       "      <th>rating</th>\n",
       "      <th>rating_count</th>\n",
       "      <th>review_count</th>\n",
       "      <th>pages_count</th>\n",
       "      <th>price</th>\n",
       "      <th>text_reviews</th>\n",
       "      <th>age</th>\n",
       "      <th>year</th>\n",
       "    </tr>\n",
       "  </thead>\n",
       "  <tbody>\n",
       "    <tr>\n",
       "      <th>0</th>\n",
       "      <td>Изучаем DDD – предметно-ориентированное проект...</td>\n",
       "      <td>Влад Хононов</td>\n",
       "      <td>https://www.litres.ru/book/vlad-hononov/izucha...</td>\n",
       "      <td>0</td>\n",
       "      <td>NaN</td>\n",
       "      <td>1</td>\n",
       "      <td>319.0</td>\n",
       "      <td>549.0</td>\n",
       "      <td>Эта книга из той лиги, в которой я пока не сос...</td>\n",
       "      <td>0+</td>\n",
       "      <td>2022.0</td>\n",
       "    </tr>\n",
       "    <tr>\n",
       "      <th>1</th>\n",
       "      <td>Создай свой VPN. Безопасное использование инте...</td>\n",
       "      <td>Джейд Картер</td>\n",
       "      <td>https://www.litres.ru/book/dzheyd-karter/sozda...</td>\n",
       "      <td>5,0</td>\n",
       "      <td>243.0</td>\n",
       "      <td>8</td>\n",
       "      <td>280.0</td>\n",
       "      <td>690.0</td>\n",
       "      <td>Нашел в книге решение своей ошибки. В общем дл...</td>\n",
       "      <td>12+</td>\n",
       "      <td>2024.0</td>\n",
       "    </tr>\n",
       "    <tr>\n",
       "      <th>2</th>\n",
       "      <td>Разработка сложных отчетов в «1С:Предприятии 8...</td>\n",
       "      <td>Е. Ю. Хрусталева</td>\n",
       "      <td>https://www.litres.ru/book/e-u-hrustaleva/razr...</td>\n",
       "      <td>0</td>\n",
       "      <td>NaN</td>\n",
       "      <td>0</td>\n",
       "      <td>485.0</td>\n",
       "      <td>490.0</td>\n",
       "      <td>NaN</td>\n",
       "      <td>12+</td>\n",
       "      <td>2024.0</td>\n",
       "    </tr>\n",
       "    <tr>\n",
       "      <th>3</th>\n",
       "      <td>1С:Предприятие 8.3. Практическое пособие разра...</td>\n",
       "      <td>Е. Ю. Хрусталева</td>\n",
       "      <td>https://www.litres.ru/book/e-u-hrustaleva/1s-p...</td>\n",
       "      <td>4,5</td>\n",
       "      <td>72.0</td>\n",
       "      <td>15</td>\n",
       "      <td>983.0</td>\n",
       "      <td>180.0</td>\n",
       "      <td>Книга супер!!! Даю проверенный совет. Прошла к...</td>\n",
       "      <td>12+</td>\n",
       "      <td>2023.0</td>\n",
       "    </tr>\n",
       "    <tr>\n",
       "      <th>4</th>\n",
       "      <td>C++20 для программистов (pdf+epub)</td>\n",
       "      <td>Пол Дейтел, Харви Дейтел</td>\n",
       "      <td>https://www.litres.ru/book/pol-deytel/c-20-dly...</td>\n",
       "      <td>0</td>\n",
       "      <td>NaN</td>\n",
       "      <td>0</td>\n",
       "      <td>1056.0</td>\n",
       "      <td>699.0</td>\n",
       "      <td>NaN</td>\n",
       "      <td>16+</td>\n",
       "      <td>2022.0</td>\n",
       "    </tr>\n",
       "  </tbody>\n",
       "</table>\n",
       "</div>"
      ],
      "text/plain": [
       "                                                name  \\\n",
       "0  Изучаем DDD – предметно-ориентированное проект...   \n",
       "1  Создай свой VPN. Безопасное использование инте...   \n",
       "2  Разработка сложных отчетов в «1С:Предприятии 8...   \n",
       "3  1С:Предприятие 8.3. Практическое пособие разра...   \n",
       "4                 C++20 для программистов (pdf+epub)   \n",
       "\n",
       "                     author  \\\n",
       "0              Влад Хононов   \n",
       "1              Джейд Картер   \n",
       "2          Е. Ю. Хрусталева   \n",
       "3          Е. Ю. Хрусталева   \n",
       "4  Пол Дейтел, Харви Дейтел   \n",
       "\n",
       "                                                link rating  rating_count  \\\n",
       "0  https://www.litres.ru/book/vlad-hononov/izucha...      0           NaN   \n",
       "1  https://www.litres.ru/book/dzheyd-karter/sozda...    5,0         243.0   \n",
       "2  https://www.litres.ru/book/e-u-hrustaleva/razr...      0           NaN   \n",
       "3  https://www.litres.ru/book/e-u-hrustaleva/1s-p...    4,5          72.0   \n",
       "4  https://www.litres.ru/book/pol-deytel/c-20-dly...      0           NaN   \n",
       "\n",
       "   review_count  pages_count  price  \\\n",
       "0             1        319.0  549.0   \n",
       "1             8        280.0  690.0   \n",
       "2             0        485.0  490.0   \n",
       "3            15        983.0  180.0   \n",
       "4             0       1056.0  699.0   \n",
       "\n",
       "                                        text_reviews  age    year  \n",
       "0  Эта книга из той лиги, в которой я пока не сос...   0+  2022.0  \n",
       "1  Нашел в книге решение своей ошибки. В общем дл...  12+  2024.0  \n",
       "2                                                NaN  12+  2024.0  \n",
       "3  Книга супер!!! Даю проверенный совет. Прошла к...  12+  2023.0  \n",
       "4                                                NaN  16+  2022.0  "
      ]
     },
     "execution_count": 3,
     "metadata": {},
     "output_type": "execute_result"
    }
   ],
   "source": [
    "df.head()"
   ]
  },
  {
   "cell_type": "code",
   "execution_count": 4,
   "id": "c161f811-8531-4862-b01e-55d16e6b9dca",
   "metadata": {},
   "outputs": [
    {
     "data": {
      "text/plain": [
       "(2840, 11)"
      ]
     },
     "execution_count": 4,
     "metadata": {},
     "output_type": "execute_result"
    }
   ],
   "source": [
    "df.shape"
   ]
  },
  {
   "cell_type": "markdown",
   "id": "62070c83-d188-411f-868c-8797f2fa30fa",
   "metadata": {},
   "source": [
    "2. Есть ли в датасете пропуски? (0.5)"
   ]
  },
  {
   "cell_type": "code",
   "execution_count": 5,
   "id": "2f663f82-a714-4b91-a9ae-b430c26a32f1",
   "metadata": {},
   "outputs": [
    {
     "data": {
      "text/plain": [
       "name               0\n",
       "author           359\n",
       "link               0\n",
       "rating             0\n",
       "rating_count    1192\n",
       "review_count       0\n",
       "pages_count      110\n",
       "price             57\n",
       "text_reviews    1758\n",
       "age                0\n",
       "year             657\n",
       "dtype: int64"
      ]
     },
     "execution_count": 5,
     "metadata": {},
     "output_type": "execute_result"
    }
   ],
   "source": [
    "df.isnull().sum()"
   ]
  },
  {
   "cell_type": "markdown",
   "id": "2cd384f8-e226-4983-b355-5f3730ac5a24",
   "metadata": {},
   "source": [
    "3. Проверьте типы данных. Если это необходимо, приведите к типам int и float те столбцы, с которыми понадобится работать как с числами. (1)."
   ]
  },
  {
   "cell_type": "code",
   "execution_count": 6,
   "id": "982ca9a4-f73e-4c8b-b2bb-09e8e9b341e5",
   "metadata": {},
   "outputs": [
    {
     "data": {
      "text/plain": [
       "name             object\n",
       "author           object\n",
       "link             object\n",
       "rating           object\n",
       "rating_count    float64\n",
       "review_count      int64\n",
       "pages_count     float64\n",
       "price           float64\n",
       "text_reviews     object\n",
       "age              object\n",
       "year            float64\n",
       "dtype: object"
      ]
     },
     "execution_count": 6,
     "metadata": {},
     "output_type": "execute_result"
    }
   ],
   "source": [
    "df.dtypes"
   ]
  },
  {
   "cell_type": "code",
   "execution_count": 7,
   "id": "e436f368-5020-4d1b-b2a3-8808819007ea",
   "metadata": {},
   "outputs": [],
   "source": [
    "df['rating'] = df['rating'].str.replace(\",\", \".\", regex=False)\n",
    "df['rating'] = pd.to_numeric(df['rating'], errors='coerce')\n",
    "df['rating_count'] = pd.to_numeric(df['rating_count'], errors='coerce',  downcast='integer')\n",
    "df['review_count'] = pd.to_numeric(df['review_count'], errors='coerce',  downcast='integer')\n",
    "df['pages_count'] = pd.to_numeric(df['pages_count'], errors='coerce',  downcast='integer')\n",
    "df['price'] = pd.to_numeric(df['price'], errors='coerce')\n"
   ]
  },
  {
   "cell_type": "code",
   "execution_count": 8,
   "id": "23279b0b-22c9-4e83-99da-9f226e214179",
   "metadata": {},
   "outputs": [
    {
     "data": {
      "text/plain": [
       "name             object\n",
       "author           object\n",
       "link             object\n",
       "rating          float64\n",
       "rating_count    float64\n",
       "review_count       int8\n",
       "pages_count     float64\n",
       "price           float64\n",
       "text_reviews     object\n",
       "age              object\n",
       "year            float64\n",
       "dtype: object"
      ]
     },
     "execution_count": 8,
     "metadata": {},
     "output_type": "execute_result"
    }
   ],
   "source": [
    "df.dtypes"
   ]
  },
  {
   "cell_type": "markdown",
   "id": "ef145e6b-9c58-4772-a4e5-d150649a34fe",
   "metadata": {},
   "source": [
    "4. Выведите описательные статистики переменных. Ответьте на следующие вопросы:\n",
    "\n",
    "* Какая медианная цена книги в вашем датасете? (1)  \n",
    "* Какое возрастное ограничение встречается чаще всего? (1)  \n",
    "* Какое среднее число отзывов в книге? (1)  \n",
    "* Сколько книг имеют оценку ниже 4.25? (1)  \n",
    "* В каком году было написано больше всего книг из датасета? (1)  "
   ]
  },
  {
   "cell_type": "code",
   "execution_count": 9,
   "id": "e08bad93-c909-4e4f-9ef1-6f98aecfc982",
   "metadata": {},
   "outputs": [
    {
     "data": {
      "text/plain": [
       "np.float64(192.0)"
      ]
     },
     "execution_count": 9,
     "metadata": {},
     "output_type": "execute_result"
    }
   ],
   "source": [
    "median_price = df['price'].median()\n",
    "median_price"
   ]
  },
  {
   "cell_type": "code",
   "execution_count": 10,
   "id": "971ce6bb-d55e-48cc-a628-5937ac969dc3",
   "metadata": {},
   "outputs": [
    {
     "data": {
      "text/plain": [
       "'0+'"
      ]
     },
     "execution_count": 10,
     "metadata": {},
     "output_type": "execute_result"
    }
   ],
   "source": [
    "most_common_age = df['age'].mode()[0]\n",
    "most_common_age"
   ]
  },
  {
   "cell_type": "code",
   "execution_count": 11,
   "id": "8a99171e-8553-4554-b8f2-860937d3e355",
   "metadata": {},
   "outputs": [
    {
     "data": {
      "text/plain": [
       "np.float64(1.171830985915493)"
      ]
     },
     "execution_count": 11,
     "metadata": {},
     "output_type": "execute_result"
    }
   ],
   "source": [
    "average_review_count = df['review_count'].mean()\n",
    "average_review_count"
   ]
  },
  {
   "cell_type": "code",
   "execution_count": 12,
   "id": "f2581e83-642f-4494-9f03-7d84de5afb82",
   "metadata": {},
   "outputs": [
    {
     "data": {
      "text/plain": [
       "1999"
      ]
     },
     "execution_count": 12,
     "metadata": {},
     "output_type": "execute_result"
    }
   ],
   "source": [
    "books_below_425 = df[df['rating'] < 4.25].shape[0]\n",
    "books_below_425"
   ]
  },
  {
   "cell_type": "code",
   "execution_count": 13,
   "id": "62ba0f3e-0fd7-46da-92d1-ef50dc60e795",
   "metadata": {},
   "outputs": [
    {
     "data": {
      "text/plain": [
       "np.float64(2023.0)"
      ]
     },
     "execution_count": 13,
     "metadata": {},
     "output_type": "execute_result"
    }
   ],
   "source": [
    "most_common_year = df['year'].mode()[0]\n",
    "most_common_year"
   ]
  },
  {
   "cell_type": "markdown",
   "id": "78cc187e-214d-491c-80fb-036a3a0bfe99",
   "metadata": {},
   "source": [
    "5. Если вы работаете с готовым датасетом, то попробуйте \"достать\" из столбца pages количество страниц. Если у вас не получилось, то далее при определении числа страниц пользуйтесь стольцов pages_count. Если вы парсили датасет сами, то вы получаете балл за этот пункт автоматически (1.5)\n",
    "\n",
    "pass"
   ]
  },
  {
   "cell_type": "markdown",
   "id": "aff31696-82b5-47e7-be33-8b7b3e84bc5f",
   "metadata": {},
   "source": [
    "6. Создайте новое поле is_popular. Значение равно 1, если рейтинг книги не менее 4.6 и при этом у нее не менее 5 отзывов, и 0 в остальных случаях. (1)"
   ]
  },
  {
   "cell_type": "code",
   "execution_count": 14,
   "id": "ca13c6f7-68ed-4776-b375-883dbec139f7",
   "metadata": {},
   "outputs": [
    {
     "data": {
      "text/html": [
       "<div>\n",
       "<style scoped>\n",
       "    .dataframe tbody tr th:only-of-type {\n",
       "        vertical-align: middle;\n",
       "    }\n",
       "\n",
       "    .dataframe tbody tr th {\n",
       "        vertical-align: top;\n",
       "    }\n",
       "\n",
       "    .dataframe thead th {\n",
       "        text-align: right;\n",
       "    }\n",
       "</style>\n",
       "<table border=\"1\" class=\"dataframe\">\n",
       "  <thead>\n",
       "    <tr style=\"text-align: right;\">\n",
       "      <th></th>\n",
       "      <th>is_popular</th>\n",
       "    </tr>\n",
       "  </thead>\n",
       "  <tbody>\n",
       "    <tr>\n",
       "      <th>0</th>\n",
       "      <td>0</td>\n",
       "    </tr>\n",
       "    <tr>\n",
       "      <th>1</th>\n",
       "      <td>1</td>\n",
       "    </tr>\n",
       "    <tr>\n",
       "      <th>2</th>\n",
       "      <td>0</td>\n",
       "    </tr>\n",
       "    <tr>\n",
       "      <th>3</th>\n",
       "      <td>0</td>\n",
       "    </tr>\n",
       "    <tr>\n",
       "      <th>4</th>\n",
       "      <td>0</td>\n",
       "    </tr>\n",
       "    <tr>\n",
       "      <th>...</th>\n",
       "      <td>...</td>\n",
       "    </tr>\n",
       "    <tr>\n",
       "      <th>2835</th>\n",
       "      <td>0</td>\n",
       "    </tr>\n",
       "    <tr>\n",
       "      <th>2836</th>\n",
       "      <td>0</td>\n",
       "    </tr>\n",
       "    <tr>\n",
       "      <th>2837</th>\n",
       "      <td>0</td>\n",
       "    </tr>\n",
       "    <tr>\n",
       "      <th>2838</th>\n",
       "      <td>0</td>\n",
       "    </tr>\n",
       "    <tr>\n",
       "      <th>2839</th>\n",
       "      <td>0</td>\n",
       "    </tr>\n",
       "  </tbody>\n",
       "</table>\n",
       "<p>2840 rows × 1 columns</p>\n",
       "</div>"
      ],
      "text/plain": [
       "      is_popular\n",
       "0              0\n",
       "1              1\n",
       "2              0\n",
       "3              0\n",
       "4              0\n",
       "...          ...\n",
       "2835           0\n",
       "2836           0\n",
       "2837           0\n",
       "2838           0\n",
       "2839           0\n",
       "\n",
       "[2840 rows x 1 columns]"
      ]
     },
     "execution_count": 14,
     "metadata": {},
     "output_type": "execute_result"
    }
   ],
   "source": [
    "df['is_popular'] = ((df['rating'] >= 4.6) & (df['rating_count'] >= 5)).astype(int)\n",
    "df[['is_popular']]"
   ]
  },
  {
   "cell_type": "markdown",
   "id": "dc404e38-ab29-4f9d-aa00-ed7a7f850495",
   "metadata": {},
   "source": [
    "7. Как отличается среднее число страниц среди популярных и непопулярных книг? (2)"
   ]
  },
  {
   "cell_type": "code",
   "execution_count": 15,
   "id": "0645f67c-4587-478f-aef4-b2fea5b88982",
   "metadata": {},
   "outputs": [
    {
     "data": {
      "text/plain": [
       "is_popular\n",
       "0    326.250294\n",
       "1    358.762431\n",
       "Name: pages_count, dtype: float64"
      ]
     },
     "execution_count": 15,
     "metadata": {},
     "output_type": "execute_result"
    }
   ],
   "source": [
    "mean_pages = df.groupby('is_popular')['pages_count'].mean()\n",
    "mean_pages"
   ]
  },
  {
   "cell_type": "markdown",
   "id": "30e9c071-6d8b-4e13-a391-2291062694bd",
   "metadata": {},
   "source": [
    "8. Выведите топ-10 книг по числу отзывов. (2)."
   ]
  },
  {
   "cell_type": "code",
   "execution_count": 16,
   "id": "b079c59e-825c-4364-b816-c77ffdfd23c4",
   "metadata": {},
   "outputs": [
    {
     "ename": "KeyError",
     "evalue": "478",
     "output_type": "error",
     "traceback": [
      "\u001b[0;31m---------------------------------------------------------------------------\u001b[0m",
      "\u001b[0;31mKeyError\u001b[0m                                  Traceback (most recent call last)",
      "File \u001b[0;32m~/HSE/scrapy_HW/.venv/lib/python3.10/site-packages/pandas/core/indexes/base.py:3805\u001b[0m, in \u001b[0;36mIndex.get_loc\u001b[0;34m(self, key)\u001b[0m\n\u001b[1;32m   3804\u001b[0m \u001b[38;5;28;01mtry\u001b[39;00m:\n\u001b[0;32m-> 3805\u001b[0m     \u001b[38;5;28;01mreturn\u001b[39;00m \u001b[38;5;28;43mself\u001b[39;49m\u001b[38;5;241;43m.\u001b[39;49m\u001b[43m_engine\u001b[49m\u001b[38;5;241;43m.\u001b[39;49m\u001b[43mget_loc\u001b[49m\u001b[43m(\u001b[49m\u001b[43mcasted_key\u001b[49m\u001b[43m)\u001b[49m\n\u001b[1;32m   3806\u001b[0m \u001b[38;5;28;01mexcept\u001b[39;00m \u001b[38;5;167;01mKeyError\u001b[39;00m \u001b[38;5;28;01mas\u001b[39;00m err:\n",
      "File \u001b[0;32mindex.pyx:167\u001b[0m, in \u001b[0;36mpandas._libs.index.IndexEngine.get_loc\u001b[0;34m()\u001b[0m\n",
      "File \u001b[0;32mindex.pyx:196\u001b[0m, in \u001b[0;36mpandas._libs.index.IndexEngine.get_loc\u001b[0;34m()\u001b[0m\n",
      "File \u001b[0;32mpandas/_libs/hashtable_class_helper.pxi:2606\u001b[0m, in \u001b[0;36mpandas._libs.hashtable.Int64HashTable.get_item\u001b[0;34m()\u001b[0m\n",
      "File \u001b[0;32mpandas/_libs/hashtable_class_helper.pxi:2630\u001b[0m, in \u001b[0;36mpandas._libs.hashtable.Int64HashTable.get_item\u001b[0;34m()\u001b[0m\n",
      "\u001b[0;31mKeyError\u001b[0m: 478",
      "\nThe above exception was the direct cause of the following exception:\n",
      "\u001b[0;31mKeyError\u001b[0m                                  Traceback (most recent call last)",
      "Cell \u001b[0;32mIn[16], line 2\u001b[0m\n\u001b[1;32m      1\u001b[0m top_10_books_by_reviews \u001b[38;5;241m=\u001b[39m df\u001b[38;5;241m.\u001b[39msort_values(by\u001b[38;5;241m=\u001b[39m\u001b[38;5;124m'\u001b[39m\u001b[38;5;124mreview_count\u001b[39m\u001b[38;5;124m'\u001b[39m, ascending\u001b[38;5;241m=\u001b[39m\u001b[38;5;28;01mFalse\u001b[39;00m)\u001b[38;5;241m.\u001b[39mhead(\u001b[38;5;241m10\u001b[39m)\n\u001b[0;32m----> 2\u001b[0m \u001b[43mtop_10_books_by_reviews\u001b[49m\u001b[43m[\u001b[49m\u001b[38;5;124;43m'\u001b[39;49m\u001b[38;5;124;43mtext_reviews\u001b[39;49m\u001b[38;5;124;43m'\u001b[39;49m\u001b[43m]\u001b[49m\u001b[43m[\u001b[49m\u001b[38;5;241;43m478\u001b[39;49m\u001b[43m]\u001b[49m\n",
      "File \u001b[0;32m~/HSE/scrapy_HW/.venv/lib/python3.10/site-packages/pandas/core/series.py:1121\u001b[0m, in \u001b[0;36mSeries.__getitem__\u001b[0;34m(self, key)\u001b[0m\n\u001b[1;32m   1118\u001b[0m     \u001b[38;5;28;01mreturn\u001b[39;00m \u001b[38;5;28mself\u001b[39m\u001b[38;5;241m.\u001b[39m_values[key]\n\u001b[1;32m   1120\u001b[0m \u001b[38;5;28;01melif\u001b[39;00m key_is_scalar:\n\u001b[0;32m-> 1121\u001b[0m     \u001b[38;5;28;01mreturn\u001b[39;00m \u001b[38;5;28;43mself\u001b[39;49m\u001b[38;5;241;43m.\u001b[39;49m\u001b[43m_get_value\u001b[49m\u001b[43m(\u001b[49m\u001b[43mkey\u001b[49m\u001b[43m)\u001b[49m\n\u001b[1;32m   1123\u001b[0m \u001b[38;5;66;03m# Convert generator to list before going through hashable part\u001b[39;00m\n\u001b[1;32m   1124\u001b[0m \u001b[38;5;66;03m# (We will iterate through the generator there to check for slices)\u001b[39;00m\n\u001b[1;32m   1125\u001b[0m \u001b[38;5;28;01mif\u001b[39;00m is_iterator(key):\n",
      "File \u001b[0;32m~/HSE/scrapy_HW/.venv/lib/python3.10/site-packages/pandas/core/series.py:1237\u001b[0m, in \u001b[0;36mSeries._get_value\u001b[0;34m(self, label, takeable)\u001b[0m\n\u001b[1;32m   1234\u001b[0m     \u001b[38;5;28;01mreturn\u001b[39;00m \u001b[38;5;28mself\u001b[39m\u001b[38;5;241m.\u001b[39m_values[label]\n\u001b[1;32m   1236\u001b[0m \u001b[38;5;66;03m# Similar to Index.get_value, but we do not fall back to positional\u001b[39;00m\n\u001b[0;32m-> 1237\u001b[0m loc \u001b[38;5;241m=\u001b[39m \u001b[38;5;28;43mself\u001b[39;49m\u001b[38;5;241;43m.\u001b[39;49m\u001b[43mindex\u001b[49m\u001b[38;5;241;43m.\u001b[39;49m\u001b[43mget_loc\u001b[49m\u001b[43m(\u001b[49m\u001b[43mlabel\u001b[49m\u001b[43m)\u001b[49m\n\u001b[1;32m   1239\u001b[0m \u001b[38;5;28;01mif\u001b[39;00m is_integer(loc):\n\u001b[1;32m   1240\u001b[0m     \u001b[38;5;28;01mreturn\u001b[39;00m \u001b[38;5;28mself\u001b[39m\u001b[38;5;241m.\u001b[39m_values[loc]\n",
      "File \u001b[0;32m~/HSE/scrapy_HW/.venv/lib/python3.10/site-packages/pandas/core/indexes/base.py:3812\u001b[0m, in \u001b[0;36mIndex.get_loc\u001b[0;34m(self, key)\u001b[0m\n\u001b[1;32m   3807\u001b[0m     \u001b[38;5;28;01mif\u001b[39;00m \u001b[38;5;28misinstance\u001b[39m(casted_key, \u001b[38;5;28mslice\u001b[39m) \u001b[38;5;129;01mor\u001b[39;00m (\n\u001b[1;32m   3808\u001b[0m         \u001b[38;5;28misinstance\u001b[39m(casted_key, abc\u001b[38;5;241m.\u001b[39mIterable)\n\u001b[1;32m   3809\u001b[0m         \u001b[38;5;129;01mand\u001b[39;00m \u001b[38;5;28many\u001b[39m(\u001b[38;5;28misinstance\u001b[39m(x, \u001b[38;5;28mslice\u001b[39m) \u001b[38;5;28;01mfor\u001b[39;00m x \u001b[38;5;129;01min\u001b[39;00m casted_key)\n\u001b[1;32m   3810\u001b[0m     ):\n\u001b[1;32m   3811\u001b[0m         \u001b[38;5;28;01mraise\u001b[39;00m InvalidIndexError(key)\n\u001b[0;32m-> 3812\u001b[0m     \u001b[38;5;28;01mraise\u001b[39;00m \u001b[38;5;167;01mKeyError\u001b[39;00m(key) \u001b[38;5;28;01mfrom\u001b[39;00m \u001b[38;5;21;01merr\u001b[39;00m\n\u001b[1;32m   3813\u001b[0m \u001b[38;5;28;01mexcept\u001b[39;00m \u001b[38;5;167;01mTypeError\u001b[39;00m:\n\u001b[1;32m   3814\u001b[0m     \u001b[38;5;66;03m# If we have a listlike key, _check_indexing_error will raise\u001b[39;00m\n\u001b[1;32m   3815\u001b[0m     \u001b[38;5;66;03m#  InvalidIndexError. Otherwise we fall through and re-raise\u001b[39;00m\n\u001b[1;32m   3816\u001b[0m     \u001b[38;5;66;03m#  the TypeError.\u001b[39;00m\n\u001b[1;32m   3817\u001b[0m     \u001b[38;5;28mself\u001b[39m\u001b[38;5;241m.\u001b[39m_check_indexing_error(key)\n",
      "\u001b[0;31mKeyError\u001b[0m: 478"
     ]
    }
   ],
   "source": [
    "top_10_books_by_reviews = df.sort_values(by='review_count', ascending=False).head(10)\n",
    "top_10_books_by_reviews['text_reviews'][478]"
   ]
  },
  {
   "cell_type": "markdown",
   "id": "b4c02f25-8566-4ee4-96c9-58057bb33fa3",
   "metadata": {},
   "source": [
    "9. Найдите среднюю длину отзыва (в символах). (2)"
   ]
  },
  {
   "cell_type": "code",
   "execution_count": null,
   "id": "69e7384b-be23-4d34-aa79-72635eea65df",
   "metadata": {},
   "outputs": [],
   "source": [
    "df['text_reviews'] = df['text_reviews'].apply(lambda x: x.split('.,') if isinstance(x, str) else [])"
   ]
  },
  {
   "cell_type": "code",
   "execution_count": null,
   "id": "8fcfda51-7aa9-4bb7-b9aa-9975a2fcf9d4",
   "metadata": {},
   "outputs": [],
   "source": [
    "df['review_lengths'] = df['text_reviews'].apply(lambda reviews: [len(review.strip()) for review in reviews])\n",
    "total_review_lengths = df['review_lengths'].explode().dropna()\n",
    "average_review_length = total_review_lengths.mean()\n",
    "average_review_length"
   ]
  },
  {
   "cell_type": "markdown",
   "id": "0b890d50-ec8c-4e4e-bc7d-d476682fbeab",
   "metadata": {},
   "source": [
    "10. Постройте таблицу корреляций числовых переменных. (1) Прокомментируйте результаты. (1)"
   ]
  },
  {
   "cell_type": "code",
   "execution_count": null,
   "id": "048773bd-ebf1-4f6e-b890-46e9cb5c9bef",
   "metadata": {},
   "outputs": [],
   "source": [
    "numeric_columns = df.select_dtypes(include=['float64', 'int64'])\n",
    "correlation_table = numeric_columns.corr()\n",
    "correlation_table"
   ]
  },
  {
   "cell_type": "markdown",
   "id": "0d8727b6-8b27-4cb8-bd33-e84198049edc",
   "metadata": {},
   "source": [
    "- Маленькая кореляция между рейтингом и количеством оценок\n",
    "- Чем больше оценок, тем больше отзывов"
   ]
  },
  {
   "cell_type": "markdown",
   "id": "ce170a6e-e305-458b-b96a-46880f97b599",
   "metadata": {},
   "source": [
    "11. Постройте диаграмму рассеяния (scatterplot) количества страниц и количества отзывов. Не забудьте подписать график и оси. (1) Прокомментируйте полученные результаты. (1)"
   ]
  },
  {
   "cell_type": "code",
   "execution_count": null,
   "id": "188c0b7e-a525-4c9c-86ad-55efc872e224",
   "metadata": {},
   "outputs": [],
   "source": [
    "plt.figure(figsize=(10, 6))\n",
    "plt.scatter(df['pages_count'], df['review_count'], alpha=0.5)\n",
    "\n",
    "plt.title(\"Диаграмма рассеяния: Количество страниц и количество отзывов\")\n",
    "plt.xlabel(\"Количество страниц\")\n",
    "plt.ylabel(\"Количество отзывов\")\n",
    "\n",
    "plt.show()"
   ]
  },
  {
   "cell_type": "markdown",
   "id": "398e42f8-96a1-494f-ad31-4cf05d64deb8",
   "metadata": {},
   "source": [
    "- Чёткой зависимости нет\n",
    "- Большинство книг менее 600 страниц"
   ]
  },
  {
   "cell_type": "markdown",
   "id": "58f799dc-250d-4945-9baf-9b10517fe562",
   "metadata": {},
   "source": [
    "12. Постройте линейный график: по оси Х год, по оси Y количество книг. (1) Прокомментируйте. (1)"
   ]
  },
  {
   "cell_type": "code",
   "execution_count": null,
   "id": "4325cb5e-8841-4b10-b3fa-52e5c09dad40",
   "metadata": {},
   "outputs": [],
   "source": [
    "books_per_year = df['year'].value_counts().sort_index()\n",
    "\n",
    "plt.figure(figsize=(10, 6))\n",
    "plt.plot(books_per_year.index, books_per_year.values, marker='o', linestyle='-', color='b')\n",
    "plt.title('Количество книг по годам', fontsize=14)\n",
    "plt.xlabel('Год', fontsize=12)\n",
    "plt.xticks(rotation=45)\n",
    "plt.ylabel('Количество книг', fontsize=12)\n",
    "plt.grid(True)\n",
    "plt.show()"
   ]
  },
  {
   "cell_type": "markdown",
   "id": "5c3ffc71-791c-4115-9eff-dd32d15573db",
   "metadata": {},
   "source": [
    "- В 2019 начало выпускаться сильно больше книг\n",
    "- Росло относительно линейно с неким спадом в 2015-2016\n",
    "- 2024 ещё не закончился, поэтому о спаде говорить рано"
   ]
  },
  {
   "cell_type": "markdown",
   "id": "ece9b845-c1fa-42d5-9202-e5c09f4badbc",
   "metadata": {},
   "source": [
    "12. Постройте еще любые два графика по вашему усмотрению. (2) Прокомментируйте полученные результаты. (1.5)"
   ]
  },
  {
   "cell_type": "code",
   "execution_count": null,
   "id": "8dcaa3df-4189-4403-95fd-40b88e6e786f",
   "metadata": {},
   "outputs": [],
   "source": [
    "age_distribution = df['age'].value_counts()\n",
    "\n",
    "plt.figure(figsize=(8, 6))\n",
    "age_distribution.plot(kind='bar', color='c')\n",
    "plt.title('Распределение книг по возрастным ограничениям', fontsize=14)\n",
    "plt.xlabel('Возрастное ограничение', fontsize=12)\n",
    "plt.ylabel('Количество книг', fontsize=12)\n",
    "plt.xticks(rotation=45)\n",
    "plt.grid(True, axis='y')\n",
    "plt.show()"
   ]
  },
  {
   "cell_type": "markdown",
   "id": "028b5410-0971-4b77-94b1-7d5553594dad",
   "metadata": {},
   "source": [
    "- Большинство книг 0+"
   ]
  },
  {
   "cell_type": "code",
   "execution_count": null,
   "id": "784501fb-f2cb-492a-8139-0f96b9395a23",
   "metadata": {},
   "outputs": [],
   "source": [
    "plt.figure(figsize=(8, 6))\n",
    "plt.scatter(df['price'], df['review_count'], alpha=0.7, color='m')\n",
    "plt.title('Диаграмма рассеяния: Цена книги и количество отзывов', fontsize=14)\n",
    "plt.xlabel('Цена (руб.)', fontsize=12)\n",
    "plt.ylabel('Количество отзывов', fontsize=12)\n",
    "plt.grid(True)\n",
    "plt.show()"
   ]
  },
  {
   "cell_type": "markdown",
   "id": "a89aaa62-2393-4378-8129-7f54f0540620",
   "metadata": {},
   "source": [
    "- На книги до 1000 рублей почти всегда есть 5-10 отзывов\n",
    "- На дорогие книги почти нет отзывов"
   ]
  },
  {
   "cell_type": "markdown",
   "id": "cdeb2829-17f1-4d67-bd90-d56b23992c62",
   "metadata": {},
   "source": [
    "13. Постройте таблицу с авторами книг с именем автора, количество книг в датасете, средней оценкой книг, средним количеством отзывов. (2)."
   ]
  },
  {
   "cell_type": "code",
   "execution_count": null,
   "id": "4f212cd2-4c5e-4183-9b23-23f8f7b8766c",
   "metadata": {},
   "outputs": [],
   "source": [
    "author_stats = df.groupby('author').agg(\n",
    "    num_books=('name', 'count'),\n",
    "    avg_rating=('rating', 'mean'),\n",
    "    avg_review_count=('review_count', 'mean')\n",
    ").reset_index()\n",
    "author_stats"
   ]
  },
  {
   "cell_type": "markdown",
   "id": "564d2263-b136-44e6-830e-298889b88361",
   "metadata": {},
   "source": [
    "14. Что еще интересного можно увидеть в этом датасете? Просмотрите на данные и ответьте на какие-нибудь вопросы, на которые не ответили в предыдущим пункте. Мы никак не ограничиваем вашу фантазию! (3)."
   ]
  },
  {
   "cell_type": "markdown",
   "id": "c24e38ba-6c6e-4a17-8014-a4a62ffbebef",
   "metadata": {},
   "source": [
    "- Гипотеза: Книги с большим количеством отзывов стоят дороже"
   ]
  },
  {
   "cell_type": "code",
   "execution_count": null,
   "id": "dd9be731-c3d6-489e-aa47-11293910af4e",
   "metadata": {},
   "outputs": [],
   "source": [
    "sns.scatterplot(data=df, x='review_count', y='price', hue='rating', palette='coolwarm')\n",
    "plt.title('Количество отзывов и цена в зависимости от рейтинга')\n",
    "plt.xlabel('Количество отзывов')\n",
    "plt.ylabel('Цена')\n",
    "plt.show()"
   ]
  },
  {
   "cell_type": "markdown",
   "id": "0cd2690a-6435-4783-94c3-08e0e82d37da",
   "metadata": {},
   "source": [
    "Не подтвердилась"
   ]
  },
  {
   "cell_type": "markdown",
   "id": "b186640d-0268-44a4-ab83-f8f16028516a",
   "metadata": {},
   "source": [
    "- Гипотеза: Популярные книги имеют высокий рейтинг"
   ]
  },
  {
   "cell_type": "code",
   "execution_count": null,
   "id": "5d0d30c6-4b2c-42d7-87eb-db790883ec02",
   "metadata": {},
   "outputs": [],
   "source": [
    "sns.scatterplot(data=df, x='rating', y='review_count')\n",
    "plt.title('Рейтинг vs Количество отзывов')\n",
    "plt.xlabel('Рейтинг')\n",
    "plt.ylabel('Количество отзывов')\n",
    "plt.show()\n",
    "\n",
    "df[['rating', 'review_count']].corr()"
   ]
  },
  {
   "cell_type": "markdown",
   "id": "33ff015b-793a-464f-ab60-0c09a82e575a",
   "metadata": {},
   "source": [
    "В целом, подтвердилась"
   ]
  },
  {
   "cell_type": "code",
   "execution_count": null,
   "id": "67b1bf51-e3b8-4f27-bb14-77ee40eb4519",
   "metadata": {},
   "outputs": [],
   "source": []
  }
 ],
 "metadata": {
  "kernelspec": {
   "display_name": "Python 3 (ipykernel)",
   "language": "python",
   "name": "python3"
  },
  "language_info": {
   "codemirror_mode": {
    "name": "ipython",
    "version": 3
   },
   "file_extension": ".py",
   "mimetype": "text/x-python",
   "name": "python",
   "nbconvert_exporter": "python",
   "pygments_lexer": "ipython3",
   "version": "3.10.11"
  }
 },
 "nbformat": 4,
 "nbformat_minor": 5
}
